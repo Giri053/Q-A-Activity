{
 "cells": [
  {
   "cell_type": "code",
   "execution_count": 23,
   "id": "27b80dc3",
   "metadata": {},
   "outputs": [],
   "source": [
    "import numpy as np \n",
    "import pandas as pd\n",
    "import seaborn as sns\n",
    "import matplotlib.pyplot as plt \n",
    "import warnings\n",
    "warnings.filterwarnings('ignore')"
   ]
  },
  {
   "cell_type": "markdown",
   "id": "414455bc",
   "metadata": {},
   "source": [
    "# 1. Read the data into python"
   ]
  },
  {
   "cell_type": "code",
   "execution_count": 24,
   "id": "7a0b561a",
   "metadata": {},
   "outputs": [],
   "source": [
    "data = pd.read_csv(\"week10.csv\")"
   ]
  },
  {
   "cell_type": "code",
   "execution_count": 25,
   "id": "a5f6f8e2",
   "metadata": {},
   "outputs": [
    {
     "data": {
      "text/html": [
       "<div>\n",
       "<style scoped>\n",
       "    .dataframe tbody tr th:only-of-type {\n",
       "        vertical-align: middle;\n",
       "    }\n",
       "\n",
       "    .dataframe tbody tr th {\n",
       "        vertical-align: top;\n",
       "    }\n",
       "\n",
       "    .dataframe thead th {\n",
       "        text-align: right;\n",
       "    }\n",
       "</style>\n",
       "<table border=\"1\" class=\"dataframe\">\n",
       "  <thead>\n",
       "    <tr style=\"text-align: right;\">\n",
       "      <th></th>\n",
       "      <th>ph</th>\n",
       "      <th>Hardness</th>\n",
       "      <th>Solids</th>\n",
       "      <th>Chloramines</th>\n",
       "      <th>Sulfate</th>\n",
       "      <th>Conductivity</th>\n",
       "      <th>Organic_carbon</th>\n",
       "      <th>Trihalomethanes</th>\n",
       "      <th>Turbidity</th>\n",
       "    </tr>\n",
       "  </thead>\n",
       "  <tbody>\n",
       "    <tr>\n",
       "      <th>0</th>\n",
       "      <td>8.316766</td>\n",
       "      <td>214.373394</td>\n",
       "      <td>22018.41744</td>\n",
       "      <td>8.059332</td>\n",
       "      <td>356.886136</td>\n",
       "      <td>363.266516</td>\n",
       "      <td>18.436525</td>\n",
       "      <td>100.341674</td>\n",
       "      <td>4.628771</td>\n",
       "    </tr>\n",
       "    <tr>\n",
       "      <th>1</th>\n",
       "      <td>9.092223</td>\n",
       "      <td>181.101509</td>\n",
       "      <td>17978.98634</td>\n",
       "      <td>6.546600</td>\n",
       "      <td>310.135738</td>\n",
       "      <td>398.410813</td>\n",
       "      <td>11.558279</td>\n",
       "      <td>31.997993</td>\n",
       "      <td>4.075075</td>\n",
       "    </tr>\n",
       "    <tr>\n",
       "      <th>2</th>\n",
       "      <td>5.584087</td>\n",
       "      <td>188.313324</td>\n",
       "      <td>28748.68774</td>\n",
       "      <td>7.544869</td>\n",
       "      <td>326.678363</td>\n",
       "      <td>280.467916</td>\n",
       "      <td>8.399735</td>\n",
       "      <td>54.917862</td>\n",
       "      <td>2.559708</td>\n",
       "    </tr>\n",
       "    <tr>\n",
       "      <th>3</th>\n",
       "      <td>10.223862</td>\n",
       "      <td>248.071735</td>\n",
       "      <td>28749.71654</td>\n",
       "      <td>7.513408</td>\n",
       "      <td>393.663395</td>\n",
       "      <td>283.651634</td>\n",
       "      <td>13.789695</td>\n",
       "      <td>84.603556</td>\n",
       "      <td>2.672989</td>\n",
       "    </tr>\n",
       "    <tr>\n",
       "      <th>4</th>\n",
       "      <td>8.635849</td>\n",
       "      <td>203.361523</td>\n",
       "      <td>13672.09176</td>\n",
       "      <td>4.563009</td>\n",
       "      <td>303.309771</td>\n",
       "      <td>474.607645</td>\n",
       "      <td>12.363817</td>\n",
       "      <td>62.798309</td>\n",
       "      <td>4.401425</td>\n",
       "    </tr>\n",
       "  </tbody>\n",
       "</table>\n",
       "</div>"
      ],
      "text/plain": [
       "          ph    Hardness       Solids  Chloramines     Sulfate  Conductivity  \\\n",
       "0   8.316766  214.373394  22018.41744     8.059332  356.886136    363.266516   \n",
       "1   9.092223  181.101509  17978.98634     6.546600  310.135738    398.410813   \n",
       "2   5.584087  188.313324  28748.68774     7.544869  326.678363    280.467916   \n",
       "3  10.223862  248.071735  28749.71654     7.513408  393.663395    283.651634   \n",
       "4   8.635849  203.361523  13672.09176     4.563009  303.309771    474.607645   \n",
       "\n",
       "   Organic_carbon  Trihalomethanes  Turbidity  \n",
       "0       18.436525       100.341674   4.628771  \n",
       "1       11.558279        31.997993   4.075075  \n",
       "2        8.399735        54.917862   2.559708  \n",
       "3       13.789695        84.603556   2.672989  \n",
       "4       12.363817        62.798309   4.401425  "
      ]
     },
     "execution_count": 25,
     "metadata": {},
     "output_type": "execute_result"
    }
   ],
   "source": [
    "data.head()"
   ]
  },
  {
   "cell_type": "markdown",
   "id": "6af66e7d",
   "metadata": {},
   "source": [
    "# 2. Check for null values"
   ]
  },
  {
   "cell_type": "code",
   "execution_count": 39,
   "id": "5778744e",
   "metadata": {},
   "outputs": [
    {
     "name": "stdout",
     "output_type": "stream",
     "text": [
      "<class 'pandas.core.frame.DataFrame'>\n",
      "RangeIndex: 2011 entries, 0 to 2010\n",
      "Data columns (total 9 columns):\n",
      " #   Column           Non-Null Count  Dtype  \n",
      "---  ------           --------------  -----  \n",
      " 0   ph               2011 non-null   float64\n",
      " 1   Hardness         2011 non-null   float64\n",
      " 2   Solids           2011 non-null   float64\n",
      " 3   Chloramines      2011 non-null   float64\n",
      " 4   Sulfate          2011 non-null   float64\n",
      " 5   Conductivity     2011 non-null   float64\n",
      " 6   Organic_carbon   2011 non-null   float64\n",
      " 7   Trihalomethanes  2011 non-null   float64\n",
      " 8   Turbidity        2011 non-null   float64\n",
      "dtypes: float64(9)\n",
      "memory usage: 141.5 KB\n"
     ]
    }
   ],
   "source": [
    "data.info()"
   ]
  },
  {
   "cell_type": "code",
   "execution_count": 26,
   "id": "6cfd0428",
   "metadata": {},
   "outputs": [
    {
     "data": {
      "text/plain": [
       "ph                 0\n",
       "Hardness           0\n",
       "Solids             0\n",
       "Chloramines        0\n",
       "Sulfate            0\n",
       "Conductivity       0\n",
       "Organic_carbon     0\n",
       "Trihalomethanes    0\n",
       "Turbidity          0\n",
       "dtype: int64"
      ]
     },
     "execution_count": 26,
     "metadata": {},
     "output_type": "execute_result"
    }
   ],
   "source": [
    "data.isna().sum()"
   ]
  },
  {
   "cell_type": "code",
   "execution_count": 27,
   "id": "f66f0c2c",
   "metadata": {},
   "outputs": [
    {
     "data": {
      "text/plain": [
       "<AxesSubplot:>"
      ]
     },
     "execution_count": 27,
     "metadata": {},
     "output_type": "execute_result"
    },
    {
     "data": {
      "image/png": "[encoded data removed]",
      "text/plain": [
       "<Figure size 504x360 with 2 Axes>"
      ]
     },
     "metadata": {
      "needs_background": "light"
     },
     "output_type": "display_data"
    }
   ],
   "source": [
    "sns.heatmap(data.isnull())"
   ]
  },
  {
   "cell_type": "markdown",
   "id": "fe73885a",
   "metadata": {},
   "source": [
    "There are no null values present in the dataset."
   ]
  },
  {
   "cell_type": "markdown",
   "id": "edaa80ae",
   "metadata": {},
   "source": [
    "# 3. Examine the variables ‘Hardness’, ‘Sulfate’, and ‘Organic_carbon’ and comment on your observations."
   ]
  },
  {
   "cell_type": "markdown",
   "id": "957d9476",
   "metadata": {},
   "source": [
    "# Hardness"
   ]
  },
  {
   "cell_type": "code",
   "execution_count": 30,
   "id": "cc59bbe7",
   "metadata": {},
   "outputs": [
    {
     "data": {
      "text/plain": [
       "count    2011.000000\n",
       "mean      195.968072\n",
       "std        32.635085\n",
       "min        73.492234\n",
       "25%       176.744938\n",
       "50%       197.191839\n",
       "75%       216.441070\n",
       "max       317.338124\n",
       "Name: Hardness, dtype: float64"
      ]
     },
     "execution_count": 30,
     "metadata": {},
     "output_type": "execute_result"
    }
   ],
   "source": [
    "data['Hardness'].describe()"
   ]
  },
  {
   "cell_type": "code",
   "execution_count": 45,
   "id": "00920162",
   "metadata": {},
   "outputs": [
    {
     "data": {
      "text/plain": [
       "<AxesSubplot:xlabel='Hardness', ylabel='Density'>"
      ]
     },
     "execution_count": 45,
     "metadata": {},
     "output_type": "execute_result"
    },
    {
     "data": {
      "image/png": "[encoded data removed]",
      "text/plain": [
       "<Figure size 504x360 with 1 Axes>"
      ]
     },
     "metadata": {
      "needs_background": "light"
     },
     "output_type": "display_data"
    }
   ],
   "source": [
    "plt.rcParams['figure.figsize'] = [7,5]\n",
    "sns.distplot(data['Hardness'])"
   ]
  },
  {
   "cell_type": "markdown",
   "id": "27d2451f",
   "metadata": {},
   "source": [
    "# Sulfate"
   ]
  },
  {
   "cell_type": "code",
   "execution_count": 35,
   "id": "c962869d",
   "metadata": {},
   "outputs": [
    {
     "data": {
      "text/plain": [
       "count    2011.000000\n",
       "mean      333.224672\n",
       "std        41.205172\n",
       "min       129.000000\n",
       "25%       307.632511\n",
       "50%       332.232177\n",
       "75%       359.330555\n",
       "max       481.030642\n",
       "Name: Sulfate, dtype: float64"
      ]
     },
     "execution_count": 35,
     "metadata": {},
     "output_type": "execute_result"
    }
   ],
   "source": [
    "data['Sulfate'].describe()"
   ]
  },
  {
   "cell_type": "code",
   "execution_count": 34,
   "id": "e99ce837",
   "metadata": {},
   "outputs": [
    {
     "data": {
      "text/plain": [
       "<AxesSubplot:xlabel='Sulfate', ylabel='Density'>"
      ]
     },
     "execution_count": 34,
     "metadata": {},
     "output_type": "execute_result"
    },
    {
     "data": {
      "image/png": "[encoded data removed]",
      "text/plain": [
       "<Figure size 504x360 with 1 Axes>"
      ]
     },
     "metadata": {
      "needs_background": "light"
     },
     "output_type": "display_data"
    }
   ],
   "source": [
    "plt.rcParams['figure.figsize'] = [7,5]\n",
    "sns.distplot(data['Sulfate'])"
   ]
  },
  {
   "cell_type": "markdown",
   "id": "4517fc0c",
   "metadata": {},
   "source": [
    "# Organic_carbon"
   ]
  },
  {
   "cell_type": "code",
   "execution_count": 36,
   "id": "4bd0a000",
   "metadata": {},
   "outputs": [
    {
     "data": {
      "text/plain": [
       "count    2011.000000\n",
       "mean       14.357709\n",
       "std         3.324959\n",
       "min         2.200000\n",
       "25%        12.124105\n",
       "50%        14.322019\n",
       "75%        16.683049\n",
       "max        27.006707\n",
       "Name: Organic_carbon, dtype: float64"
      ]
     },
     "execution_count": 36,
     "metadata": {},
     "output_type": "execute_result"
    }
   ],
   "source": [
    "data['Organic_carbon'].describe()"
   ]
  },
  {
   "cell_type": "code",
   "execution_count": 44,
   "id": "91550ea5",
   "metadata": {},
   "outputs": [
    {
     "data": {
      "text/plain": [
       "<AxesSubplot:xlabel='Organic_carbon', ylabel='Density'>"
      ]
     },
     "execution_count": 44,
     "metadata": {},
     "output_type": "execute_result"
    },
    {
     "data": {
      "image/png": "[encoded data removed]",
      "text/plain": [
       "<Figure size 504x360 with 1 Axes>"
      ]
     },
     "metadata": {
      "needs_background": "light"
     },
     "output_type": "display_data"
    }
   ],
   "source": [
    "plt.rcParams['figure.figsize'] = [7,5]\n",
    "sns.distplot(data['Organic_carbon'])"
   ]
  },
  {
   "cell_type": "markdown",
   "id": "a5051ae2",
   "metadata": {},
   "source": [
    "The values of the variables \"Hardness,\" \"Sulfate,\" and \"Organic carbon\" grow with the density of water up to a specific point when looking at these three variables. Following that, when the density of water increases, the value of these three variables decreases."
   ]
  },
  {
   "cell_type": "markdown",
   "id": "b39d54a7",
   "metadata": {},
   "source": [
    "# 4. Carry out correlation analysis on the dataset and find the correlation factor between"
   ]
  },
  {
   "cell_type": "code",
   "execution_count": 65,
   "id": "721337a6",
   "metadata": {},
   "outputs": [
    {
     "data": {
      "text/html": [
       "<div>\n",
       "<style scoped>\n",
       "    .dataframe tbody tr th:only-of-type {\n",
       "        vertical-align: middle;\n",
       "    }\n",
       "\n",
       "    .dataframe tbody tr th {\n",
       "        vertical-align: top;\n",
       "    }\n",
       "\n",
       "    .dataframe thead th {\n",
       "        text-align: right;\n",
       "    }\n",
       "</style>\n",
       "<table border=\"1\" class=\"dataframe\">\n",
       "  <thead>\n",
       "    <tr style=\"text-align: right;\">\n",
       "      <th></th>\n",
       "      <th>ph</th>\n",
       "      <th>Hardness</th>\n",
       "      <th>Solids</th>\n",
       "      <th>Chloramines</th>\n",
       "      <th>Sulfate</th>\n",
       "      <th>Conductivity</th>\n",
       "      <th>Organic_carbon</th>\n",
       "      <th>Trihalomethanes</th>\n",
       "      <th>Turbidity</th>\n",
       "    </tr>\n",
       "  </thead>\n",
       "  <tbody>\n",
       "    <tr>\n",
       "      <th>ph</th>\n",
       "      <td>1.000000</td>\n",
       "      <td>0.108948</td>\n",
       "      <td>-0.087615</td>\n",
       "      <td>-0.024768</td>\n",
       "      <td>0.010524</td>\n",
       "      <td>0.014128</td>\n",
       "      <td>0.028375</td>\n",
       "      <td>0.018278</td>\n",
       "      <td>-0.035849</td>\n",
       "    </tr>\n",
       "    <tr>\n",
       "      <th>Hardness</th>\n",
       "      <td>0.108948</td>\n",
       "      <td>1.000000</td>\n",
       "      <td>-0.053269</td>\n",
       "      <td>-0.022685</td>\n",
       "      <td>-0.108521</td>\n",
       "      <td>0.011731</td>\n",
       "      <td>0.013224</td>\n",
       "      <td>-0.015400</td>\n",
       "      <td>-0.034831</td>\n",
       "    </tr>\n",
       "    <tr>\n",
       "      <th>Solids</th>\n",
       "      <td>-0.087615</td>\n",
       "      <td>-0.053269</td>\n",
       "      <td>1.000000</td>\n",
       "      <td>-0.051789</td>\n",
       "      <td>-0.162769</td>\n",
       "      <td>-0.005198</td>\n",
       "      <td>-0.005484</td>\n",
       "      <td>-0.015668</td>\n",
       "      <td>0.019409</td>\n",
       "    </tr>\n",
       "    <tr>\n",
       "      <th>Chloramines</th>\n",
       "      <td>-0.024768</td>\n",
       "      <td>-0.022685</td>\n",
       "      <td>-0.051789</td>\n",
       "      <td>1.000000</td>\n",
       "      <td>0.006254</td>\n",
       "      <td>-0.028277</td>\n",
       "      <td>-0.023808</td>\n",
       "      <td>0.014990</td>\n",
       "      <td>0.013137</td>\n",
       "    </tr>\n",
       "    <tr>\n",
       "      <th>Sulfate</th>\n",
       "      <td>0.010524</td>\n",
       "      <td>-0.108521</td>\n",
       "      <td>-0.162769</td>\n",
       "      <td>0.006254</td>\n",
       "      <td>1.000000</td>\n",
       "      <td>-0.016192</td>\n",
       "      <td>0.026776</td>\n",
       "      <td>-0.023347</td>\n",
       "      <td>-0.009934</td>\n",
       "    </tr>\n",
       "    <tr>\n",
       "      <th>Conductivity</th>\n",
       "      <td>0.014128</td>\n",
       "      <td>0.011731</td>\n",
       "      <td>-0.005198</td>\n",
       "      <td>-0.028277</td>\n",
       "      <td>-0.016192</td>\n",
       "      <td>1.000000</td>\n",
       "      <td>0.015647</td>\n",
       "      <td>0.004888</td>\n",
       "      <td>0.012495</td>\n",
       "    </tr>\n",
       "    <tr>\n",
       "      <th>Organic_carbon</th>\n",
       "      <td>0.028375</td>\n",
       "      <td>0.013224</td>\n",
       "      <td>-0.005484</td>\n",
       "      <td>-0.023808</td>\n",
       "      <td>0.026776</td>\n",
       "      <td>0.015647</td>\n",
       "      <td>1.000000</td>\n",
       "      <td>-0.005667</td>\n",
       "      <td>-0.015428</td>\n",
       "    </tr>\n",
       "    <tr>\n",
       "      <th>Trihalomethanes</th>\n",
       "      <td>0.018278</td>\n",
       "      <td>-0.015400</td>\n",
       "      <td>-0.015668</td>\n",
       "      <td>0.014990</td>\n",
       "      <td>-0.023347</td>\n",
       "      <td>0.004888</td>\n",
       "      <td>-0.005667</td>\n",
       "      <td>1.000000</td>\n",
       "      <td>-0.020497</td>\n",
       "    </tr>\n",
       "    <tr>\n",
       "      <th>Turbidity</th>\n",
       "      <td>-0.035849</td>\n",
       "      <td>-0.034831</td>\n",
       "      <td>0.019409</td>\n",
       "      <td>0.013137</td>\n",
       "      <td>-0.009934</td>\n",
       "      <td>0.012495</td>\n",
       "      <td>-0.015428</td>\n",
       "      <td>-0.020497</td>\n",
       "      <td>1.000000</td>\n",
       "    </tr>\n",
       "  </tbody>\n",
       "</table>\n",
       "</div>"
      ],
      "text/plain": [
       "                       ph  Hardness    Solids  Chloramines   Sulfate  \\\n",
       "ph               1.000000  0.108948 -0.087615    -0.024768  0.010524   \n",
       "Hardness         0.108948  1.000000 -0.053269    -0.022685 -0.108521   \n",
       "Solids          -0.087615 -0.053269  1.000000    -0.051789 -0.162769   \n",
       "Chloramines     -0.024768 -0.022685 -0.051789     1.000000  0.006254   \n",
       "Sulfate          0.010524 -0.108521 -0.162769     0.006254  1.000000   \n",
       "Conductivity     0.014128  0.011731 -0.005198    -0.028277 -0.016192   \n",
       "Organic_carbon   0.028375  0.013224 -0.005484    -0.023808  0.026776   \n",
       "Trihalomethanes  0.018278 -0.015400 -0.015668     0.014990 -0.023347   \n",
       "Turbidity       -0.035849 -0.034831  0.019409     0.013137 -0.009934   \n",
       "\n",
       "                 Conductivity  Organic_carbon  Trihalomethanes  Turbidity  \n",
       "ph                   0.014128        0.028375         0.018278  -0.035849  \n",
       "Hardness             0.011731        0.013224        -0.015400  -0.034831  \n",
       "Solids              -0.005198       -0.005484        -0.015668   0.019409  \n",
       "Chloramines         -0.028277       -0.023808         0.014990   0.013137  \n",
       "Sulfate             -0.016192        0.026776        -0.023347  -0.009934  \n",
       "Conductivity         1.000000        0.015647         0.004888   0.012495  \n",
       "Organic_carbon       0.015647        1.000000        -0.005667  -0.015428  \n",
       "Trihalomethanes      0.004888       -0.005667         1.000000  -0.020497  \n",
       "Turbidity            0.012495       -0.015428        -0.020497   1.000000  "
      ]
     },
     "execution_count": 65,
     "metadata": {},
     "output_type": "execute_result"
    }
   ],
   "source": [
    "data.corr()"
   ]
  },
  {
   "cell_type": "code",
   "execution_count": 60,
   "id": "74eb3677",
   "metadata": {},
   "outputs": [
    {
     "data": {
      "text/plain": [
       "<AxesSubplot:>"
      ]
     },
     "execution_count": 60,
     "metadata": {},
     "output_type": "execute_result"
    },
    {
     "data": {
      "image/png": "[encoded data removed]",
      "text/plain": [
       "<Figure size 504x360 with 2 Axes>"
      ]
     },
     "metadata": {
      "needs_background": "light"
     },
     "output_type": "display_data"
    }
   ],
   "source": [
    "sns.heatmap(data.corr())"
   ]
  },
  {
   "cell_type": "markdown",
   "id": "87060df4",
   "metadata": {},
   "source": [
    "# a. ph and Chloramines"
   ]
  },
  {
   "cell_type": "code",
   "execution_count": 55,
   "id": "73960082",
   "metadata": {},
   "outputs": [
    {
     "data": {
      "text/html": [
       "<div>\n",
       "<style scoped>\n",
       "    .dataframe tbody tr th:only-of-type {\n",
       "        vertical-align: middle;\n",
       "    }\n",
       "\n",
       "    .dataframe tbody tr th {\n",
       "        vertical-align: top;\n",
       "    }\n",
       "\n",
       "    .dataframe thead th {\n",
       "        text-align: right;\n",
       "    }\n",
       "</style>\n",
       "<table border=\"1\" class=\"dataframe\">\n",
       "  <thead>\n",
       "    <tr style=\"text-align: right;\">\n",
       "      <th></th>\n",
       "      <th>ph</th>\n",
       "      <th>Chloramines</th>\n",
       "    </tr>\n",
       "  </thead>\n",
       "  <tbody>\n",
       "    <tr>\n",
       "      <th>ph</th>\n",
       "      <td>1.000000</td>\n",
       "      <td>-0.024768</td>\n",
       "    </tr>\n",
       "    <tr>\n",
       "      <th>Chloramines</th>\n",
       "      <td>-0.024768</td>\n",
       "      <td>1.000000</td>\n",
       "    </tr>\n",
       "  </tbody>\n",
       "</table>\n",
       "</div>"
      ],
      "text/plain": [
       "                   ph  Chloramines\n",
       "ph           1.000000    -0.024768\n",
       "Chloramines -0.024768     1.000000"
      ]
     },
     "execution_count": 55,
     "metadata": {},
     "output_type": "execute_result"
    }
   ],
   "source": [
    "data[['ph','Chloramines']].corr()"
   ]
  },
  {
   "cell_type": "markdown",
   "id": "189aa732",
   "metadata": {},
   "source": [
    "# b. ph and Conductivity"
   ]
  },
  {
   "cell_type": "code",
   "execution_count": 58,
   "id": "a0bb383e",
   "metadata": {},
   "outputs": [
    {
     "data": {
      "text/html": [
       "<div>\n",
       "<style scoped>\n",
       "    .dataframe tbody tr th:only-of-type {\n",
       "        vertical-align: middle;\n",
       "    }\n",
       "\n",
       "    .dataframe tbody tr th {\n",
       "        vertical-align: top;\n",
       "    }\n",
       "\n",
       "    .dataframe thead th {\n",
       "        text-align: right;\n",
       "    }\n",
       "</style>\n",
       "<table border=\"1\" class=\"dataframe\">\n",
       "  <thead>\n",
       "    <tr style=\"text-align: right;\">\n",
       "      <th></th>\n",
       "      <th>ph</th>\n",
       "      <th>Conductivity</th>\n",
       "    </tr>\n",
       "  </thead>\n",
       "  <tbody>\n",
       "    <tr>\n",
       "      <th>ph</th>\n",
       "      <td>1.000000</td>\n",
       "      <td>0.014128</td>\n",
       "    </tr>\n",
       "    <tr>\n",
       "      <th>Conductivity</th>\n",
       "      <td>0.014128</td>\n",
       "      <td>1.000000</td>\n",
       "    </tr>\n",
       "  </tbody>\n",
       "</table>\n",
       "</div>"
      ],
      "text/plain": [
       "                    ph  Conductivity\n",
       "ph            1.000000      0.014128\n",
       "Conductivity  0.014128      1.000000"
      ]
     },
     "execution_count": 58,
     "metadata": {},
     "output_type": "execute_result"
    }
   ],
   "source": [
    "data[['ph','Conductivity']].corr()"
   ]
  },
  {
   "cell_type": "markdown",
   "id": "487a5f57",
   "metadata": {},
   "source": [
    "# What do we infer from this correlation value?"
   ]
  },
  {
   "cell_type": "markdown",
   "id": "f36f0651",
   "metadata": {},
   "source": [
    "The correlation coefficients for \"pH and chloramines\" and \"pH and conductivity\" are both close to zero. As a result, a week association exists."
   ]
  }
 ],
 "metadata": {
  "kernelspec": {
   "display_name": "Python 3 (ipykernel)",
   "language": "python",
   "name": "python3"
  },
  "language_info": {
   "codemirror_mode": {
    "name": "ipython",
    "version": 3
   },
   "file_extension": ".py",
   "mimetype": "text/x-python",
   "name": "python",
   "nbconvert_exporter": "python",
   "pygments_lexer": "ipython3",
   "version": "3.9.7"
  }
 },
 "nbformat": 4,
 "nbformat_minor": 5
}
